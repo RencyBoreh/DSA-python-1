{
 "cells": [
  {
   "cell_type": "code",
   "execution_count": 1,
   "id": "e1e3853c-debb-4c51-aece-4c40efa711be",
   "metadata": {},
   "outputs": [
    {
     "name": "stdout",
     "output_type": "stream",
     "text": [
      "['Rency', 1, 2, 9.0]\n"
     ]
    }
   ],
   "source": [
    "#lists contains ordered collection of data\n",
    "#list with multiple values\n",
    "list1=[\"Rency\",1,2,9.0]\n",
    "print(list1)"
   ]
  },
  {
   "cell_type": "code",
   "execution_count": 5,
   "id": "582427a9-91a1-4865-a352-b99c6674faaf",
   "metadata": {},
   "outputs": [
    {
     "name": "stdout",
     "output_type": "stream",
     "text": [
      "[['Rency', 'Boreh', 22], 31]\n"
     ]
    }
   ],
   "source": [
    "#Multidimentional lists\n",
    "list2=[[\"Rency\",\"Boreh\",22],31]\n",
    "print(list2)"
   ]
  },
  {
   "cell_type": "code",
   "execution_count": 9,
   "id": "4cd930e9-3787-48ec-9528-de21efbbb847",
   "metadata": {},
   "outputs": [
    {
     "name": "stdout",
     "output_type": "stream",
     "text": [
      "Rency\n",
      "9.0\n"
     ]
    }
   ],
   "source": [
    "#accessing element from the list\n",
    "print(list1[0])\n",
    "print(list1[-1])"
   ]
  },
  {
   "cell_type": "code",
   "execution_count": 1,
   "id": "2471302e-51cf-4b52-b1bd-af6d59b17781",
   "metadata": {},
   "outputs": [
    {
     "name": "stdout",
     "output_type": "stream",
     "text": [
      "[3, 4, 5, 6]\n"
     ]
    }
   ],
   "source": [
    "#lists allows duplication\n",
    "#slicing-return a range of elements between 2 position[start:end]where the start is included while the end is excluded\n",
    "test1=[1,2,3,4,5,6,7,8,9,0]\n",
    "print(test1[2:6])"
   ]
  },
  {
   "cell_type": "code",
   "execution_count": 5,
   "id": "bf31c9b2-430b-47bf-bad0-664bb55424b6",
   "metadata": {},
   "outputs": [
    {
     "name": "stdout",
     "output_type": "stream",
     "text": [
      "['Rency', 'Rabby', 'Resly', 'Rufoh', 'Jeroto']\n",
      "['Rency', 'Rabby', 'Jerop', 'Resly', 'Rufoh', 'Jeroto']\n"
     ]
    }
   ],
   "source": [
    "#append-adding new members into the list\n",
    "#append()-adds a particular element to the last position of the list\n",
    "#insert()-insert particular element to the specified position\n",
    "test2=[\"Rency\",\"Rabby\",\"Resly\",\"Rufoh\"]\n",
    "test2.append(\"Jeroto\")\n",
    "print(test2)\n",
    "test2.insert(2,\"Jerop\")\n",
    "print(test2)"
   ]
  },
  {
   "cell_type": "code",
   "execution_count": 15,
   "id": "843a32e4-2117-49ec-a128-02b552d603a7",
   "metadata": {},
   "outputs": [
    {
     "name": "stdout",
     "output_type": "stream",
     "text": [
      "[1, 2, 3, 5, 6, 7, 8, 9, 0]\n",
      "[1, 2, 3, 5, 6, 7, 8, 9]\n",
      "[1, 3, 5, 6, 7, 8, 9]\n"
     ]
    }
   ],
   "source": [
    "#Remove elements from the list\n",
    "#remove()-removes the first occurence from the list that matches a specified value.\n",
    "#pop()-remove an element at a specified index from the list.if not specified it removes the last element from the list\n",
    "test3=[1,2,3,4,5,6,7,8,9,0]\n",
    "test3.remove(4)\n",
    "print(test3)\n",
    "test3.pop()\n",
    "print(test3)\n",
    "test3.pop(1)#---index\n",
    "print(test3)"
   ]
  },
  {
   "cell_type": "code",
   "execution_count": 21,
   "id": "0d7edaa8-dab4-4af4-aad4-390a7d9733d9",
   "metadata": {},
   "outputs": [
    {
     "name": "stdout",
     "output_type": "stream",
     "text": [
      "[0, 1, 2, 3, 4, 5, 6, 7, 8, 9]\n",
      "[9, 8, 7, 6, 5, 4, 3, 2, 1, 0]\n"
     ]
    }
   ],
   "source": [
    "#sorting-allows you to reorder your list either in ascending or descending order\n",
    "test4=[1,2,3,4,5,6,7,8,9,0]\n",
    "test4.sort()\n",
    "print(test4)\n",
    "test4.sort(reverse=True)\n",
    "print(test4)"
   ]
  },
  {
   "cell_type": "code",
   "execution_count": 27,
   "id": "1adc31d0-6ab9-48aa-bba6-a527e8cc750a",
   "metadata": {},
   "outputs": [
    {
     "name": "stdout",
     "output_type": "stream",
     "text": [
      "[1, 2, 3, 4, 5, 6, 'Ren', 'Res', 'Ruf', 'Rab']\n",
      "[[1, 2, 3, 4, 5, 6, 'Ren', 'Res', 'Ruf', 'Rab']]\n"
     ]
    }
   ],
   "source": [
    "#concatenating lists-2 or more lists can be joined together using the + symbol.This will return a single list with 2 more lists combined together\n",
    "testa=[1,2,3,4,5,6]\n",
    "testb=[\"Ren\",\"Res\",\"Ruf\",\"Rab\"]\n",
    "testc=[testa+testb]\n",
    "testd=testa + testb\n",
    "print(testd)\n",
    "print(testc)"
   ]
  },
  {
   "cell_type": "code",
   "execution_count": 31,
   "id": "88e1995e-44af-4f3d-a062-4011a456bba5",
   "metadata": {},
   "outputs": [
    {
     "name": "stdout",
     "output_type": "stream",
     "text": [
      "[1, 4, 9, 16, 25]\n"
     ]
    }
   ],
   "source": [
    "#List comprehensions-offers a convenient method of producing new list\n",
    "#by perfoming an operation on each element of an existing string a new string is created\n",
    "num=[1,2,3,4,5]\n",
    "squire=[]\n",
    "for x in num:\n",
    "    squire.append(x**2)\n",
    "print(squire)"
   ]
  },
  {
   "cell_type": "code",
   "execution_count": 35,
   "id": "09ef2c21-d5bb-4d98-8673-ee7048191147",
   "metadata": {},
   "outputs": [
    {
     "name": "stdout",
     "output_type": "stream",
     "text": [
      "['Ren', 'Res', 'Ruf', 'Rab']\n"
     ]
    }
   ],
   "source": [
    "#Stacks and Queues using lists\n",
    "#stack-list of elements where new element are added at the start of the list or removed at the end of the list\n",
    "#stack uses the LIFO principle\n",
    "name=[\"Ren\",\"Res\",\"Ruf\",\"Rab\"]\n",
    "name.append(\"Jeru\")\n",
    "name.pop()\n",
    "print(name)"
   ]
  },
  {
   "cell_type": "code",
   "execution_count": 39,
   "id": "43a8d336-2d6d-432e-84d1-c710fe863987",
   "metadata": {},
   "outputs": [
    {
     "name": "stdout",
     "output_type": "stream",
     "text": [
      "['Ren', 'Res', 'Ruf', 'Rab', 'Jeroo']\n",
      "['Res', 'Ruf', 'Rab', 'Jeroo']\n"
     ]
    }
   ],
   "source": [
    "#queue-list of elements in which new elements are added to the end of the list and old elements are removed from the front f the list first\n",
    "#follows the FIFO algorithm\n",
    "names=[\"Ren\",\"Res\",\"Ruf\",\"Rab\"]\n",
    "names.append(\"Jeroo\")\n",
    "print(names)\n",
    "names.pop(0)\n",
    "print(names)"
   ]
  },
  {
   "cell_type": "code",
   "execution_count": null,
   "id": "d18134ff-6cbc-4a1d-85d2-e78ca81f3123",
   "metadata": {},
   "outputs": [],
   "source": []
  }
 ],
 "metadata": {
  "kernelspec": {
   "display_name": "Python 3 (ipykernel)",
   "language": "python",
   "name": "python3"
  },
  "language_info": {
   "codemirror_mode": {
    "name": "ipython",
    "version": 3
   },
   "file_extension": ".py",
   "mimetype": "text/x-python",
   "name": "python",
   "nbconvert_exporter": "python",
   "pygments_lexer": "ipython3",
   "version": "3.12.4"
  }
 },
 "nbformat": 4,
 "nbformat_minor": 5
}
