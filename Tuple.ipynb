{
 "cells": [
  {
   "cell_type": "code",
   "execution_count": 1,
   "id": "66724f64-2879-4f16-8c4e-6b5942a1c0f2",
   "metadata": {},
   "outputs": [
    {
     "name": "stdout",
     "output_type": "stream",
     "text": [
      "('Ren', 1, 2, 3, 4)\n"
     ]
    }
   ],
   "source": [
    "#Tuple is just like list but its immutable...once created it cannot be modified\n",
    "test=(\"Ren\",1,2,3,4)\n",
    "print(test)"
   ]
  },
  {
   "cell_type": "code",
   "execution_count": 11,
   "id": "5ffb5088-46e6-4b00-be7d-ddf759ca69b9",
   "metadata": {},
   "outputs": [
    {
     "name": "stdout",
     "output_type": "stream",
     "text": [
      "apple orange potato\n"
     ]
    }
   ],
   "source": [
    "test1=(\"apple\",\"orange\",\"potato\")\n",
    "a,b,c=test1\n",
    "print(a,b,c )"
   ]
  },
  {
   "cell_type": "code",
   "execution_count": null,
   "id": "c818e29f-b1f5-41f4-a66d-8b068b88d4af",
   "metadata": {},
   "outputs": [],
   "source": []
  }
 ],
 "metadata": {
  "kernelspec": {
   "display_name": "Python 3 (ipykernel)",
   "language": "python",
   "name": "python3"
  },
  "language_info": {
   "codemirror_mode": {
    "name": "ipython",
    "version": 3
   },
   "file_extension": ".py",
   "mimetype": "text/x-python",
   "name": "python",
   "nbconvert_exporter": "python",
   "pygments_lexer": "ipython3",
   "version": "3.12.4"
  }
 },
 "nbformat": 4,
 "nbformat_minor": 5
}
