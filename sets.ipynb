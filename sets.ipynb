{
 "cells": [
  {
   "cell_type": "code",
   "execution_count": 7,
   "id": "e7152f70-4e4e-467e-96f1-901433e5378d",
   "metadata": {},
   "outputs": [
    {
     "name": "stdout",
     "output_type": "stream",
     "text": [
      "<class 'set'>\n",
      "{'Ren', 'Res', 'Ruf', 'Rab'}\n"
     ]
    }
   ],
   "source": [
    "#The major advantage of using a set, as opposed to a list, is that it has a\n",
    "#highly optimized method for checking whether a specific element is contained in the set.\n",
    "# This is based on a data structure known as a hash table. Since sets are unordered, we cannot access items using indexes as we do in lists.\n",
    "#unordered,mutable,iterable,no duplicates\n",
    "test1={1,2,3,4}\n",
    "print(type (test1))\n",
    "test2={\"Rab\",\"Res\",\"Ren\"}\n",
    "test2.add(\"Ruf\")\n",
    "print(test2)"
   ]
  },
  {
   "cell_type": "code",
   "execution_count": 13,
   "id": "5756354a-3bbc-4626-ab6e-b304e4342274",
   "metadata": {},
   "outputs": [
    {
     "name": "stdout",
     "output_type": "stream",
     "text": [
      "{'Ren', 'Res', 'Rab'}\n",
      "{'Res', 'Rab'}\n"
     ]
    }
   ],
   "source": [
    "#no duplication\n",
    "#can only add or delete items in the set.\n",
    "# values of a set cannot be changed\n",
    "names={\"Ren\",\"Res\",\"Rab\",\"Ren\"}\n",
    "print(names)\n",
    "names.pop()\n",
    "print(names)"
   ]
  },
  {
   "cell_type": "code",
   "execution_count": 15,
   "id": "d9c0f4d1-4b7b-4fe3-9a85-27cde0df050b",
   "metadata": {},
   "outputs": [],
   "source": [
    "#python frozen sets\n",
    "#While elements of a set can be modified at any time, elements of the frozen set remain the same after creation. "
   ]
  },
  {
   "cell_type": "code",
   "execution_count": 21,
   "id": "5becdb46-f8f8-4e07-9511-0a89e2b60c27",
   "metadata": {},
   "outputs": [
    {
     "name": "stdout",
     "output_type": "stream",
     "text": [
      "{'Ren', 'Res', 1, 2, 3, 4, 'Rab'}\n",
      "{'Ren', 1, 2, 3, 4, 'Res', 'Rab'}\n"
     ]
    }
   ],
   "source": [
    "#union operation- sets can be merged together using union() method or | operator\n",
    "#union()\n",
    "names1={\"Ren\",\"Res\",\"Rab\",\"Ren\"}\n",
    "test3={1,2,3,4}\n",
    "test4=names1.union(test3)\n",
    "print(test4)\n",
    "names3={\"Ren\",\"Res\",\"Rab\",\"Ren\"}\n",
    "test5={1,2,3,4}\n",
    "test6=test5|names3\n",
    "print(test6)"
   ]
  },
  {
   "cell_type": "code",
   "execution_count": 29,
   "id": "d70b3417-471e-412c-a145-f1e7b72a4c53",
   "metadata": {},
   "outputs": [
    {
     "name": "stdout",
     "output_type": "stream",
     "text": [
      "{1, 2, 3, 4, 5, 6, 7, 8, 9, 10, 11, 12, 13, 14}\n",
      "{8, 9, 6, 7}\n",
      "{8, 9, 6, 7}\n"
     ]
    }
   ],
   "source": [
    "#Intersection Operation-this can be done throught intersection() or & operator\n",
    "#it selects only the common elements\n",
    "\n",
    "numbers1=set()\n",
    "numbers2=set()\n",
    "for num in range(1,15):\n",
    "    numbers1.add(num)\n",
    "for nums in range(6,10):\n",
    "    numbers2.add(nums)\n",
    "print(numbers1)\n",
    "print(numbers2)\n",
    "numbers3=numbers1.intersection(numbers2)#----numbers1&numbers2\n",
    "print(numbers3)"
   ]
  },
  {
   "cell_type": "code",
   "execution_count": 37,
   "id": "44317483-9218-43fa-824d-00a0f86799a1",
   "metadata": {},
   "outputs": [
    {
     "name": "stdout",
     "output_type": "stream",
     "text": [
      "{4, 5, 6, 7, 8}\n",
      "{2, 3, 4, 5, 6}\n",
      "{2, 3}\n"
     ]
    }
   ],
   "source": [
    "#Find difference of sets-done using difference() of - operator\n",
    "set1=set()\n",
    "set2=set()\n",
    "for nums in range(4,9):\n",
    "    set1.add(nums)\n",
    "print(set1)\n",
    "for num in range(2,7):\n",
    "    set2.add(num)\n",
    "print(set2)\n",
    "set3=set2.difference(set1)#----set2-set1\n",
    "print(set3)\n"
   ]
  },
  {
   "cell_type": "code",
   "execution_count": null,
   "id": "ab2084f5-862b-4aca-a39e-962761d72bc4",
   "metadata": {},
   "outputs": [],
   "source": []
  }
 ],
 "metadata": {
  "kernelspec": {
   "display_name": "Python 3 (ipykernel)",
   "language": "python",
   "name": "python3"
  },
  "language_info": {
   "codemirror_mode": {
    "name": "ipython",
    "version": 3
   },
   "file_extension": ".py",
   "mimetype": "text/x-python",
   "name": "python",
   "nbconvert_exporter": "python",
   "pygments_lexer": "ipython3",
   "version": "3.12.4"
  }
 },
 "nbformat": 4,
 "nbformat_minor": 5
}
